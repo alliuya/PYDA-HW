{
 "cells": [
  {
   "cell_type": "markdown",
   "metadata": {},
   "source": [
    "### Задание 1"
   ]
  },
  {
   "cell_type": "markdown",
   "metadata": {},
   "source": [
    "Я не поняла нужно было именно с фразами из задания или с любыми, лишь бы код работал\n"
   ]
  },
  {
   "cell_type": "code",
   "execution_count": 10,
   "metadata": {},
   "outputs": [
    {
     "name": "stdout",
     "output_type": "stream",
     "text": [
      "Фраза1: Я люблю молочный шоколад\n",
      "Фраза2: Моя дочка любит белый\n",
      "Фраза 1 длиннее фразы 2\n"
     ]
    }
   ],
   "source": [
    "phrase_1 = input('Фраза1: ')\n",
    "phrase_2 = input('Фраза2: ')\n",
    "\n",
    "if len(phrase_1) > len(phrase_2):\n",
    "    print('Фраза 1 длиннее фразы 2')\n",
    "elif len(phrase_1) < len(phrase_2):\n",
    "    print('Фраза 2 длиннее фразы 1')\n",
    "else:\n",
    "    print('Фразы равной длины')"
   ]
  },
  {
   "cell_type": "code",
   "execution_count": 17,
   "metadata": {},
   "outputs": [
    {
     "name": "stdout",
     "output_type": "stream",
     "text": [
      "Фраза1: Насколько проще было бы писать программы, если бы не заказчики\n",
      "Фраза2: Насколько проще было бы писать программы, если бы не заказчики\n",
      "Фразы равной длины\n"
     ]
    }
   ],
   "source": [
    "phrase_1 = input('Фраза1: ')\n",
    "phrase_2 = input('Фраза2: ')\n",
    "\n",
    "if len(phrase_1) > len(phrase_2):\n",
    "    print('Фраза 1 длиннее фразы 2')\n",
    "elif len(phrase_1) < len(phrase_2):\n",
    "    print('Фраза 2 длиннее фразы 1')\n",
    "else:\n",
    "    print('Фразы равной длины')"
   ]
  },
  {
   "cell_type": "markdown",
   "metadata": {},
   "source": [
    "### Задание 2"
   ]
  },
  {
   "cell_type": "code",
   "execution_count": 27,
   "metadata": {},
   "outputs": [
    {
     "name": "stdout",
     "output_type": "stream",
     "text": [
      "Ввеите год: 1600\n",
      "1600 - високосный год\n"
     ]
    }
   ],
   "source": [
    "year = int(input('Ввеите год: '))\n",
    "\n",
    "if year % 4 == 0 and year % 100 !=0 or year % 400 == 0:\n",
    "    print(year, '- високосный год')\n",
    "else:\n",
    "    print(year, '- невисокосный год')"
   ]
  },
  {
   "cell_type": "markdown",
   "metadata": {},
   "source": [
    "### Задание 3"
   ]
  },
  {
   "cell_type": "code",
   "execution_count": 65,
   "metadata": {},
   "outputs": [
    {
     "name": "stdout",
     "output_type": "stream",
     "text": [
      "Введите день рождения: 27\n",
      "Введите месяц рождения со строчной буквы в именительном падеже: декабрь\n",
      "козерог\n"
     ]
    }
   ],
   "source": [
    "day = int(input('Введите день рождения: '))\n",
    "month = input('Введите месяц рождения со строчной буквы в именительном падеже: ')\n",
    "\n",
    "if month == 'январь' and day >= 21 or month == 'февраль' and day <= 19:\n",
    "    print('водолей')\n",
    "elif month == 'февраль' and day >= 20 or month == 'март' and day <= 20:\n",
    "    print('рыбы')\n",
    "elif month == 'март' and day >= 21 or month == 'апрель' and day <= 20:\n",
    "    print('овен')\n",
    "elif month == 'апрель' and day >= 21 or month == 'май' and day <= 21:\n",
    "    print('телец')\n",
    "elif month == 'май' and day >= 22 or month == 'июнь' and day <= 21:\n",
    "    print('близнецы')\n",
    "elif month == 'июнь' and day >= 22 or month == 'июль' and day <= 22:\n",
    "    print('рак')\n",
    "elif month == 'июль' and day >= 23 or month == 'август' and day <= 23:\n",
    "    print('лев')\n",
    "elif month == 'август' and day >= 24 or month == 'сентябрь' and day <= 23:\n",
    "    print('дева')\n",
    "elif month == 'сентябрь' and day >= 24 or month == 'октябрь' and day <= 23:\n",
    "    print('весы')\n",
    "elif month == 'октябрь' and day >= 24 or month == 'ноябрь' and day <= 22:\n",
    "    print('скорпион')\n",
    "elif month == 'ноябрь' and day >= 24 or month == 'декабрь' and day <= 22:\n",
    "    print('стрелец')\n",
    "elif month == 'декабрь' and day >= 23 or month == 'январь' and day <= 20:\n",
    "    print('козерог')"
   ]
  },
  {
   "cell_type": "markdown",
   "metadata": {},
   "source": [
    "### Задание 4"
   ]
  },
  {
   "cell_type": "code",
   "execution_count": 34,
   "metadata": {},
   "outputs": [],
   "source": [
    "width = 10\n",
    "length = 205\n",
    "height = 5"
   ]
  },
  {
   "cell_type": "code",
   "execution_count": 35,
   "metadata": {},
   "outputs": [
    {
     "name": "stdout",
     "output_type": "stream",
     "text": [
      "ищите упаковку для лыж\n"
     ]
    }
   ],
   "source": [
    "if width < 15 and  length < 15 and height < 15:\n",
    "    print('Коробка №1')   \n",
    "elif 15 < width < 50 or 15 < length < 50 or 15 < height < 50:\n",
    "    print('Коробка №2')\n",
    "elif length > 200:\n",
    "    print('ищите упаковку для лыж') \n",
    "else:\n",
    "    print('Стандартная коробка №3')"
   ]
  },
  {
   "cell_type": "markdown",
   "metadata": {},
   "source": [
    "### Задание 5"
   ]
  },
  {
   "cell_type": "code",
   "execution_count": 42,
   "metadata": {},
   "outputs": [],
   "source": [
    "number = '123321'"
   ]
  },
  {
   "cell_type": "code",
   "execution_count": 43,
   "metadata": {},
   "outputs": [],
   "source": [
    "a = [int(n) for n in number]"
   ]
  },
  {
   "cell_type": "code",
   "execution_count": 44,
   "metadata": {},
   "outputs": [
    {
     "name": "stdout",
     "output_type": "stream",
     "text": [
      "Счастливчик\n"
     ]
    }
   ],
   "source": [
    "if sum(a[:3]) == sum(a[-3:]):\n",
    "    print('Счастливчик')\n",
    "else:\n",
    "    print('Упс, не повезло')"
   ]
  },
  {
   "cell_type": "markdown",
   "metadata": {},
   "source": [
    "### Задание 6"
   ]
  },
  {
   "cell_type": "code",
   "execution_count": 96,
   "metadata": {},
   "outputs": [
    {
     "name": "stdout",
     "output_type": "stream",
     "text": [
      "Введите тип фигуры: треугольник\n",
      "Введите длину стороны A: 4\n",
      "Введите длину стороны B: 5\n",
      "Введите длину стороны C: 6\n",
      "Площадь треугольника:  9.921567416492215\n"
     ]
    }
   ],
   "source": [
    "figure = input('Введите тип фигуры: ')\n",
    "if figure == 'круг':\n",
    "    r = int(input('Введите радиус: '))\n",
    "    area = 3.14*(r**2)\n",
    "    print('Площадь круга: ', area)\n",
    "elif figure == 'прямоугольник':\n",
    "    a = int(input('Введите длину стороны A: '))\n",
    "    b = int(input('Введите длину стороны B: '))\n",
    "    area = 3.14*(a*b)\n",
    "    print('Площадь круга: ', area)\n",
    "elif figure == 'треугольник':\n",
    "    a = int(input('Введите длину стороны A: '))\n",
    "    b = int(input('Введите длину стороны B: '))\n",
    "    c = int(input('Введите длину стороны C: '))\n",
    "    p = (a+b+c)/2\n",
    "    area = (p * (p - a)*(p - b)*(p - c))**0.5\n",
    "    print('Площадь треугольника: ', area)\n",
    "else:\n",
    "    print('упсб что-то пошло не так')"
   ]
  },
  {
   "cell_type": "code",
   "execution_count": 97,
   "metadata": {},
   "outputs": [
    {
     "name": "stdout",
     "output_type": "stream",
     "text": [
      "Введите тип фигуры: квадрат\n",
      "упс, что-то пошло не так\n"
     ]
    }
   ],
   "source": [
    "figure = input('Введите тип фигуры: ')\n",
    "if figure == 'круг':\n",
    "    r = int(input('Введите радиус: '))\n",
    "    area = 3.14*(r**2)\n",
    "    print('Площадь круга: ', area)\n",
    "elif figure == 'прямоугольник':\n",
    "    a = int(input('Введите длину стороны A: '))\n",
    "    b = int(input('Введите длину стороны B: '))\n",
    "    area = 3.14*(a*b)\n",
    "    print('Площадь круга: ', area)\n",
    "elif figure == 'треугольник':\n",
    "    a = int(input('Введите длину стороны A: '))\n",
    "    b = int(input('Введите длину стороны B: '))\n",
    "    c = int(input('Введите длину стороны C: '))\n",
    "    p = (a+b+с)/2\n",
    "    area = (p * (p - a)*(p - b)*(p - c))**0.5\n",
    "    print('Площадь треугольника: ', area)\n",
    "else:\n",
    "    print('упс, что-то пошло не так')"
   ]
  },
  {
   "cell_type": "code",
   "execution_count": null,
   "metadata": {},
   "outputs": [],
   "source": []
  }
 ],
 "metadata": {
  "kernelspec": {
   "display_name": "Python 3",
   "language": "python",
   "name": "python3"
  },
  "language_info": {
   "codemirror_mode": {
    "name": "ipython",
    "version": 3
   },
   "file_extension": ".py",
   "mimetype": "text/x-python",
   "name": "python",
   "nbconvert_exporter": "python",
   "pygments_lexer": "ipython3",
   "version": "3.7.4"
  }
 },
 "nbformat": 4,
 "nbformat_minor": 2
}
